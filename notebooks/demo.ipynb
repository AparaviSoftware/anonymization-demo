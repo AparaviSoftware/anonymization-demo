{
  "cells": [
    {
      "cell_type": "markdown",
      "metadata": {},
      "source": [
        "### Aparavi Pipeline Demo Notebook\n",
        "\n",
        "This notebook demonstrates how to use the Aparavi Data Toolchain SDK for document processing and PII anonymization.\n",
        "\n",
        "![Aparavi pipeline](../images/pipeline.png)"
      ]
    },
    {
      "cell_type": "code",
      "execution_count": 1,
      "metadata": {},
      "outputs": [
        {
          "name": "stdout",
          "output_type": "stream",
          "text": [
            "Note: you may need to restart the kernel to use updated packages.\n"
          ]
        },
        {
          "name": "stderr",
          "output_type": "stream",
          "text": [
            "\n",
            "[notice] A new release of pip is available: 25.1.1 -> 25.2\n",
            "[notice] To update, run: python.exe -m pip install --upgrade pip\n"
          ]
        }
      ],
      "source": [
        "%pip install -q -U -r ../requirements.txt"
      ]
    },
    {
      "cell_type": "code",
      "execution_count": 2,
      "metadata": {},
      "outputs": [
        {
          "name": "stdout",
          "output_type": "stream",
          "text": [
            "✓ Environment loaded\n",
            "APARAVI_BASE_URL: 'https://eaas-dev.aparavi.com/'\n",
            "APARAVI_API_KEY set: True\n"
          ]
        }
      ],
      "source": [
        "# Load env and initialize Aparavi client\n",
        "from dotenv import load_dotenv\n",
        "import os\n",
        "from aparavi_dtc_sdk import AparaviClient\n",
        "\n",
        "load_dotenv(dotenv_path=\"../env\", override=True)\n",
        "\n",
        "api_key = os.getenv(\"APARAVI_API_KEY\")\n",
        "base_url = os.getenv(\"APARAVI_BASE_URL\", \"https://eaas.aparavi.com/\")\n",
        "\n",
        "print(\"✓ Environment loaded\")\n",
        "print(\"APARAVI_BASE_URL:\", repr(base_url))\n",
        "print(\"APARAVI_API_KEY set:\", bool(api_key))\n"
      ]
    },
    {
      "cell_type": "code",
      "execution_count": null,
      "metadata": {},
      "outputs": [
        {
          "name": "stdout",
          "output_type": "stream",
          "text": [
            "✓ Client initialized\n",
            "  Endpoint: https://eaas-dev.aparavi.com/\n"
          ]
        }
      ],
      "source": [
        "# initialize client\n",
        "client = None\n",
        "if not api_key:\n",
        "    print(\"Please set APARAVI_API_KEY in ../env\")\n",
        "else:\n",
        "    client = AparaviClient(base_url=base_url, api_key=api_key)\n",
        "    print(\"✓ Client initialized\")\n",
        "    print(\"  Endpoint:\", base_url)\n"
      ]
    },
    {
      "cell_type": "code",
      "execution_count": 10,
      "metadata": {},
      "outputs": [
        {
          "name": "stdout",
          "output_type": "stream",
          "text": [
            "[Aparavi DTC SDK] POST /pipe/validate\n",
            "[Aparavi DTC SDK] Status: 200\n",
            "[Aparavi DTC SDK] Pipeline validation: OK\n",
            "[Aparavi DTC SDK] PUT /task\n",
            "[Aparavi DTC SDK] Status: 200\n",
            "[Aparavi DTC SDK] Task token: 7ba7d0f3-c3cd-41dd-89f6-4ce13de667cf\n",
            "[Aparavi DTC SDK] Webhook pipeline detected. Polling until task is running...\n",
            "[Aparavi DTC SDK] GET /task\n",
            "[Aparavi DTC SDK] Status: 200\n",
            "[Aparavi DTC SDK] Task Status: [Attempt 1] OK\n",
            "[Aparavi DTC SDK] GET /task\n",
            "[Aparavi DTC SDK] Status: 200\n",
            "[Aparavi DTC SDK] Task Status: [Attempt 2] OK\n",
            "[Aparavi DTC SDK] Task operation failed: Interrupted by user.\n",
            "[Aparavi DTC SDK] DELETE /task\n",
            "[Aparavi DTC SDK] Status: 200\n",
            "[Aparavi DTC SDK] Task ended: OK\n"
          ]
        }
      ],
      "source": [
        "# Process a sample document\n",
        "try:\n",
        "    result = client.execute_pipeline_workflow(\n",
        "        pipeline =\"../pipelines/anonymize_pipeline.json\",\n",
        "        file_glob=\"../tests/sampleData/*.pdf\"\n",
        "    )\n",
        "    \n",
        "    if result:\n",
        "        print(\"✓ Document processed successfully!\")\n",
        "        if isinstance(result, dict):\n",
        "            print(f\"  Status: {result.get('status', 'Unknown')}\")\n",
        "            print(f\"  Completed: {result.get('completed', False)}\")\n",
        "except Exception as e:\n",
        "    print(f\"✗ Error: {e}\")\n"
      ]
    },
    {
      "cell_type": "code",
      "execution_count": null,
      "metadata": {},
      "outputs": [
        {
          "data": {
            "text/markdown": [
              "### 1. 1d3da009-8ff8-4ace-9dd0-b8f62febec9c"
            ],
            "text/plain": [
              "<IPython.core.display.Markdown object>"
            ]
          },
          "metadata": {},
          "output_type": "display_data"
        },
        {
          "data": {
            "text/markdown": [
              "`1d3da009-8ff8-4ace-9dd0-b8f62febec9c`"
            ],
            "text/plain": [
              "<IPython.core.display.Markdown object>"
            ]
          },
          "metadata": {},
          "output_type": "display_data"
        },
        {
          "data": {
            "text/markdown": [
              "\n",
              "# Complex Sample PDF Document\n",
              "\n",
              "This PDF contains various elements including text, tables, forms, images, handwriting-like text, and sensitive-looking information for testing purposes.\n",
              "\n",
              "| Name  | ███ | ███         | Credit Card         |\n",
              "| ----- | --- | ----------- | ------------------- |\n",
              "| █████ | ██  | ███████████ | ███████████████████ |\n",
              "| ███   | ██  | ███████████ | ████████████████████|\n",
              "\n",
              "\n",
              "## Here is a generated graph:\n",
              "\n",
              "| X-axis | Sine Wave |\n",
              "| ------ | --------- |\n",
              "| 0      | 0.00      |\n",
              "| 1      | 0.50      |\n",
              "| 2      | 1.00      |\n",
              "| 3      | 0.75      |\n",
              "| 4      | 0.00      |\n",
              "| 5      | -1.00     |\n",
              "| 6      | -0.75     |\n",
              "| 7      | 0.00      |\n",
              "| 8      | 1.00      |\n",
              "| 9      | 0.75      |\n",
              "| 10     | -0.50     |\n",
              "\n",
              "\n",
              "## Handwritten Note (simulated):\n",
              "\n",
              "*This is a sample handwritten note. Meet me at 5 pm!*\n",
              "\n",
              "## ████████████:\n",
              "\n",
              "| First Name: | \\_\\_\\_\\_\\_\\_\\_\\_\\_\\_\\_\\_\\_\\_\\_\\_\\_ |\n",
              "| ----------- | ---------------------------------- |\n",
              "| Last Name:  | \\_\\_\\_\\_\\_\\_\\_\\_\\_\\_\\_\\_\\_\\_\\_\\_\\_ |\n",
              "| Signature:  | \\_\\_\\_\\_\\_\\_\\_\\_\\_\\_\\_\\_\\_\\_\\_\\_\\_ |\n",
              "\n",
              "\n",
              "\n",
              "\n",
              "\n",
              "# Sensitive Information (for testing):\n",
              "\n",
              "Password: █████████████\n",
              "Bank Account Number: ██████████\n",
              "Medical Record: ████████████████\n",
              "\n"
            ],
            "text/plain": [
              "<IPython.core.display.Markdown object>"
            ]
          },
          "metadata": {},
          "output_type": "display_data"
        }
      ],
      "source": [
        "import sys\n",
        "sys.path.insert(0, \"..\")\n",
        "from tools.render import render_aparavi_result\n",
        "\n",
        "# Render the result\n",
        "render_aparavi_result(result)"
      ]
    }
  ],
  "metadata": {
    "kernelspec": {
      "display_name": "Python 3",
      "language": "python",
      "name": "python3"
    },
    "language_info": {
      "codemirror_mode": {
        "name": "ipython",
        "version": 3
      },
      "file_extension": ".py",
      "mimetype": "text/x-python",
      "name": "python",
      "nbconvert_exporter": "python",
      "pygments_lexer": "ipython3",
      "version": "3.13.3"
    }
  },
  "nbformat": 4,
  "nbformat_minor": 2
}
