{
  "cells": [
    {
      "cell_type": "markdown",
      "metadata": {},
      "source": [
        "### Aparavi Pipeline Demo Notebook\n",
        "\n",
        "This notebook demonstrates how to use the Aparavi Data Toolchain SDK for document processing and PII anonymization.\n",
        "\n",
        "![Aparavi pipeline](../images/pipeline.png)"
      ]
    },
    {
      "cell_type": "code",
      "execution_count": null,
      "metadata": {},
      "outputs": [],
      "source": [
        "%pip install -q -U -r ../requirements.txt"
      ]
    },
    {
      "cell_type": "code",
      "execution_count": null,
      "metadata": {},
      "outputs": [],
      "source": [
        "# Load env and initialize Aparavi client\n",
        "from dotenv import load_dotenv\n",
        "import os\n",
        "from aparavi_dtc_sdk import AparaviClient\n",
        "\n",
        "load_dotenv(dotenv_path=\"../env\", override=True)\n",
        "\n",
        "api_key = os.getenv(\"APARAVI_API_KEY\")\n",
        "base_url = os.getenv(\"APARAVI_BASE_URL\", \"https://eaas.aparavi.com/\")\n",
        "\n",
        "print(\"✓ Environment loaded\")\n",
        "print(\"APARAVI_BASE_URL:\", repr(base_url))\n",
        "print(\"APARAVI_API_KEY set:\", bool(api_key))\n"
      ]
    },
    {
      "cell_type": "code",
      "execution_count": null,
      "metadata": {},
      "outputs": [],
      "source": [
        "# initialize client\n",
        "client = None\n",
        "if not api_key:\n",
        "    print(\"Please set APARAVI_API_KEY in ../env\")\n",
        "else:\n",
        "    client = AparaviClient(base_url=base_url, api_key=api_key)\n",
        "    print(\"✓ Client initialized\")\n",
        "    print(\"  Endpoint:\", base_url)\n"
      ]
    },
    {
      "cell_type": "code",
      "execution_count": null,
      "metadata": {},
      "outputs": [],
      "source": [
        "# Process a sample document\n",
        "try:\n",
        "    result = client.execute_pipeline_workflow(\n",
        "        pipeline =\"../pipelines/anonymize_pipeline.json\",\n",
        "        file_glob=\"../tests/sampleData/*.pdf\"\n",
        "    )\n",
        "    \n",
        "    if result:\n",
        "        print(\"✓ Document processed successfully!\")\n",
        "        if isinstance(result, dict):\n",
        "            print(f\"  Status: {result.get('status', 'Unknown')}\")\n",
        "            print(f\"  Completed: {result.get('completed', False)}\")\n",
        "except Exception as e:\n",
        "    print(f\"✗ Error: {e}\")\n"
      ]
    },
    {
      "cell_type": "code",
      "execution_count": null,
      "metadata": {},
      "outputs": [],
      "source": [
        "import sys\n",
        "sys.path.insert(0, \"..\")\n",
        "from tools.render import render_aparavi_result\n",
        "\n",
        "# Render the result\n",
        "render_aparavi_result(result)"
      ]
    }
  ],
  "metadata": {
    "kernelspec": {
      "display_name": "Python 3",
      "language": "python",
      "name": "python3"
    },
    "language_info": {
      "codemirror_mode": {
        "name": "ipython",
        "version": 3
      },
      "file_extension": ".py",
      "mimetype": "text/x-python",
      "name": "python",
      "nbconvert_exporter": "python",
      "pygments_lexer": "ipython3",
      "version": "3.11.13"
    }
  },
  "nbformat": 4,
  "nbformat_minor": 2
}
